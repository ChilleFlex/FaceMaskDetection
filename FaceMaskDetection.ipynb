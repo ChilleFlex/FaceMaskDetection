{
  "nbformat": 4,
  "nbformat_minor": 0,
  "metadata": {
    "colab": {
      "name": "Untitled37.ipynb",
      "provenance": [],
      "toc_visible": true
    },
    "kernelspec": {
      "name": "python3",
      "display_name": "Python 3"
    },
    "language_info": {
      "name": "python"
    }
  },
  "cells": [
    {
      "cell_type": "markdown",
      "source": [
        "# Importing The Libraries"
      ],
      "metadata": {
        "id": "D7IUnUInb8ZN"
      }
    },
    {
      "cell_type": "code",
      "execution_count": 2,
      "metadata": {
        "id": "ywxbBoStV1fp"
      },
      "outputs": [],
      "source": [
        "from tensorflow.keras.preprocessing.image import ImageDataGenerator\n",
        "from tensorflow.keras.applications import MobileNetV2\n",
        "from tensorflow.keras.layers import AveragePooling2D\n"
      ]
    },
    {
      "cell_type": "code",
      "source": [
        "from tensorflow.keras.layers import Dropout\n",
        "from tensorflow.keras.layers import Flatten\n",
        "from tensorflow.keras.layers import Dense\n",
        "from tensorflow.keras.layers import Input\n",
        "from tensorflow.keras.models import Model\n"
      ],
      "metadata": {
        "id": "cVQfWcmFcJVG"
      },
      "execution_count": 3,
      "outputs": []
    },
    {
      "cell_type": "code",
      "source": [
        "from tensorflow.keras.optimizers import Adam\n",
        "from tensorflow.keras.applications.mobilenet_v2 import preprocess_input\n",
        "from tensorflow.keras.preprocessing.image import img_to_array\n",
        "from tensorflow.keras.preprocessing.image import load_img\n",
        "from tensorflow.keras.utils import to_categorical\n",
        "from sklearn.preprocessing import LabelBinarizer\n",
        "from sklearn.model_selection import train_test_split\n",
        "from sklearn.metrics import classification_report\n",
        "from imutils import paths\n",
        "import matplotlib.pyplot as plt\n",
        "import numpy as np\n",
        "import os"
      ],
      "metadata": {
        "id": "EBMWUDTHcLfN"
      },
      "execution_count": 4,
      "outputs": []
    },
    {
      "cell_type": "markdown",
      "source": [
        "# Read The Dataset"
      ],
      "metadata": {
        "id": "O4s7WLICcUxc"
      }
    },
    {
      "cell_type": "code",
      "source": [
        "from google.colab import drive\n",
        "drive.mount('/content/drive')"
      ],
      "metadata": {
        "colab": {
          "base_uri": "https://localhost:8080/"
        },
        "id": "RrA66Px4u-0o",
        "outputId": "aaa1c1e1-aef2-4e28-f836-a840c1f879f4"
      },
      "execution_count": 5,
      "outputs": [
        {
          "output_type": "stream",
          "name": "stdout",
          "text": [
            "Drive already mounted at /content/drive; to attempt to forcibly remount, call drive.mount(\"/content/drive\", force_remount=True).\n"
          ]
        }
      ]
    },
    {
      "cell_type": "code",
      "source": [
        "PATH = r\"/content/drive/MyDrive/Softcom/Project/dataset/\"\n",
        "df = [\"withMask\", \"withoutMask\"]"
      ],
      "metadata": {
        "id": "lopiyWp5WaZI"
      },
      "execution_count": 6,
      "outputs": []
    },
    {
      "cell_type": "markdown",
      "source": [
        "# Image Preprocessing"
      ],
      "metadata": {
        "id": "Z4SuPQd_chR0"
      }
    },
    {
      "cell_type": "code",
      "source": [
        "# array for image and class\n",
        "dataImg = []\n",
        "dataClass = []"
      ],
      "metadata": {
        "id": "LnZjL5dSe-wW"
      },
      "execution_count": 17,
      "outputs": []
    },
    {
      "cell_type": "code",
      "source": [
        "for labels in df:\n",
        "    Imagepath = os.path.join(PATH, labels)\n",
        "    for img in os.listdir(Imagepath):\n",
        "    \tJoinImageToPath = os.path.join(Imagepath, img)\n",
        "    \tresizeImage = load_img(JoinImageToPath, target_size=(224, 224))\n",
        "    \timageToArray = img_to_array(resizeImage)\n",
        "    \tPreprocessImage = preprocess_input(imageToArray)\n",
        "    \tdataImg.append(PreprocessImage)\n",
        "    \tdataClass.append(labels)\n"
      ],
      "metadata": {
        "colab": {
          "base_uri": "https://localhost:8080/"
        },
        "id": "LAl5l1bYvOao",
        "outputId": "46f730e1-0c46-4fe3-b34f-8d70211244b3"
      },
      "execution_count": 18,
      "outputs": [
        {
          "output_type": "stream",
          "name": "stderr",
          "text": [
            "/usr/local/lib/python3.7/dist-packages/PIL/Image.py:960: UserWarning: Palette images with Transparency expressed in bytes should be converted to RGBA images\n",
            "  \"Palette images with Transparency expressed in bytes should be \"\n"
          ]
        }
      ]
    },
    {
      "cell_type": "code",
      "source": [
        "print(dataClass)"
      ],
      "metadata": {
        "colab": {
          "base_uri": "https://localhost:8080/"
        },
        "id": "8n9FMI2jgJk_",
        "outputId": "188557e1-4bca-4dd5-f965-2a6d65a65ab0"
      },
      "execution_count": 19,
      "outputs": [
        {
          "output_type": "stream",
          "name": "stdout",
          "text": [
            "['withMask', 'withMask', 'withMask', 'withMask', 'withMask', 'withMask', 'withMask', 'withMask', 'withMask', 'withMask', 'withMask', 'withMask', 'withMask', 'withMask', 'withMask', 'withMask', 'withMask', 'withMask', 'withMask', 'withMask', 'withMask', 'withMask', 'withMask', 'withMask', 'withMask', 'withMask', 'withMask', 'withMask', 'withMask', 'withMask', 'withMask', 'withMask', 'withMask', 'withMask', 'withMask', 'withMask', 'withMask', 'withMask', 'withMask', 'withMask', 'withMask', 'withMask', 'withMask', 'withMask', 'withMask', 'withMask', 'withMask', 'withMask', 'withMask', 'withMask', 'withMask', 'withMask', 'withMask', 'withMask', 'withMask', 'withMask', 'withMask', 'withMask', 'withMask', 'withMask', 'withMask', 'withMask', 'withMask', 'withMask', 'withMask', 'withMask', 'withMask', 'withMask', 'withMask', 'withMask', 'withMask', 'withMask', 'withMask', 'withMask', 'withMask', 'withMask', 'withMask', 'withMask', 'withMask', 'withMask', 'withMask', 'withMask', 'withMask', 'withMask', 'withMask', 'withMask', 'withMask', 'withMask', 'withMask', 'withMask', 'withMask', 'withMask', 'withMask', 'withMask', 'withMask', 'withMask', 'withMask', 'withMask', 'withMask', 'withMask', 'withMask', 'withMask', 'withMask', 'withMask', 'withMask', 'withMask', 'withMask', 'withMask', 'withMask', 'withMask', 'withMask', 'withMask', 'withMask', 'withMask', 'withMask', 'withMask', 'withMask', 'withMask', 'withMask', 'withMask', 'withMask', 'withMask', 'withMask', 'withMask', 'withMask', 'withMask', 'withMask', 'withMask', 'withMask', 'withMask', 'withMask', 'withMask', 'withMask', 'withMask', 'withMask', 'withMask', 'withMask', 'withMask', 'withMask', 'withMask', 'withMask', 'withMask', 'withMask', 'withMask', 'withMask', 'withMask', 'withMask', 'withMask', 'withMask', 'withMask', 'withMask', 'withMask', 'withMask', 'withMask', 'withMask', 'withMask', 'withMask', 'withMask', 'withMask', 'withMask', 'withMask', 'withMask', 'withMask', 'withMask', 'withMask', 'withMask', 'withMask', 'withMask', 'withMask', 'withMask', 'withMask', 'withMask', 'withMask', 'withMask', 'withMask', 'withMask', 'withMask', 'withMask', 'withMask', 'withMask', 'withMask', 'withMask', 'withMask', 'withMask', 'withMask', 'withMask', 'withMask', 'withMask', 'withMask', 'withMask', 'withMask', 'withMask', 'withMask', 'withMask', 'withMask', 'withMask', 'withMask', 'withMask', 'withMask', 'withMask', 'withMask', 'withMask', 'withMask', 'withMask', 'withMask', 'withMask', 'withMask', 'withMask', 'withMask', 'withMask', 'withMask', 'withMask', 'withMask', 'withMask', 'withMask', 'withMask', 'withMask', 'withMask', 'withMask', 'withMask', 'withMask', 'withMask', 'withMask', 'withMask', 'withMask', 'withMask', 'withMask', 'withMask', 'withMask', 'withMask', 'withMask', 'withMask', 'withMask', 'withMask', 'withMask', 'withMask', 'withMask', 'withMask', 'withMask', 'withMask', 'withMask', 'withMask', 'withMask', 'withMask', 'withMask', 'withMask', 'withMask', 'withMask', 'withMask', 'withMask', 'withMask', 'withMask', 'withMask', 'withMask', 'withMask', 'withMask', 'withMask', 'withMask', 'withMask', 'withMask', 'withMask', 'withMask', 'withMask', 'withMask', 'withMask', 'withMask', 'withMask', 'withMask', 'withMask', 'withMask', 'withMask', 'withMask', 'withMask', 'withMask', 'withMask', 'withMask', 'withMask', 'withMask', 'withMask', 'withMask', 'withMask', 'withMask', 'withMask', 'withMask', 'withMask', 'withMask', 'withMask', 'withMask', 'withMask', 'withMask', 'withMask', 'withMask', 'withMask', 'withMask', 'withMask', 'withMask', 'withMask', 'withMask', 'withMask', 'withMask', 'withMask', 'withMask', 'withMask', 'withMask', 'withMask', 'withMask', 'withMask', 'withMask', 'withMask', 'withMask', 'withMask', 'withMask', 'withMask', 'withMask', 'withMask', 'withMask', 'withMask', 'withMask', 'withMask', 'withMask', 'withMask', 'withMask', 'withMask', 'withMask', 'withMask', 'withMask', 'withMask', 'withMask', 'withMask', 'withMask', 'withMask', 'withMask', 'withMask', 'withMask', 'withMask', 'withMask', 'withMask', 'withMask', 'withMask', 'withMask', 'withMask', 'withMask', 'withMask', 'withMask', 'withMask', 'withMask', 'withMask', 'withMask', 'withMask', 'withMask', 'withMask', 'withMask', 'withMask', 'withMask', 'withMask', 'withMask', 'withMask', 'withMask', 'withMask', 'withMask', 'withMask', 'withMask', 'withMask', 'withMask', 'withMask', 'withMask', 'withMask', 'withMask', 'withMask', 'withMask', 'withMask', 'withMask', 'withMask', 'withMask', 'withMask', 'withMask', 'withMask', 'withMask', 'withMask', 'withMask', 'withMask', 'withMask', 'withMask', 'withMask', 'withMask', 'withMask', 'withMask', 'withMask', 'withMask', 'withMask', 'withMask', 'withMask', 'withMask', 'withMask', 'withMask', 'withMask', 'withMask', 'withMask', 'withMask', 'withMask', 'withMask', 'withMask', 'withMask', 'withMask', 'withMask', 'withMask', 'withMask', 'withMask', 'withMask', 'withMask', 'withMask', 'withMask', 'withMask', 'withMask', 'withMask', 'withMask', 'withMask', 'withMask', 'withMask', 'withMask', 'withMask', 'withMask', 'withMask', 'withMask', 'withMask', 'withMask', 'withMask', 'withMask', 'withMask', 'withMask', 'withMask', 'withMask', 'withMask', 'withMask', 'withMask', 'withMask', 'withMask', 'withMask', 'withMask', 'withMask', 'withMask', 'withMask', 'withMask', 'withMask', 'withMask', 'withMask', 'withMask', 'withMask', 'withMask', 'withMask', 'withMask', 'withMask', 'withMask', 'withMask', 'withMask', 'withMask', 'withMask', 'withMask', 'withMask', 'withMask', 'withMask', 'withMask', 'withMask', 'withMask', 'withMask', 'withMask', 'withMask', 'withMask', 'withMask', 'withMask', 'withMask', 'withMask', 'withMask', 'withMask', 'withMask', 'withMask', 'withMask', 'withMask', 'withMask', 'withMask', 'withMask', 'withMask', 'withMask', 'withMask', 'withMask', 'withMask', 'withMask', 'withMask', 'withMask', 'withMask', 'withMask', 'withMask', 'withMask', 'withMask', 'withMask', 'withMask', 'withMask', 'withMask', 'withMask', 'withMask', 'withMask', 'withMask', 'withMask', 'withMask', 'withMask', 'withMask', 'withMask', 'withMask', 'withMask', 'withMask', 'withMask', 'withMask', 'withMask', 'withMask', 'withMask', 'withMask', 'withMask', 'withMask', 'withMask', 'withMask', 'withMask', 'withMask', 'withMask', 'withMask', 'withMask', 'withMask', 'withMask', 'withMask', 'withMask', 'withMask', 'withMask', 'withMask', 'withMask', 'withMask', 'withMask', 'withMask', 'withMask', 'withMask', 'withMask', 'withMask', 'withMask', 'withMask', 'withMask', 'withMask', 'withMask', 'withMask', 'withMask', 'withMask', 'withMask', 'withMask', 'withMask', 'withMask', 'withMask', 'withMask', 'withMask', 'withMask', 'withMask', 'withMask', 'withMask', 'withMask', 'withMask', 'withMask', 'withMask', 'withMask', 'withMask', 'withMask', 'withMask', 'withMask', 'withMask', 'withMask', 'withMask', 'withMask', 'withMask', 'withMask', 'withMask', 'withMask', 'withMask', 'withMask', 'withMask', 'withMask', 'withMask', 'withMask', 'withMask', 'withMask', 'withMask', 'withMask', 'withMask', 'withMask', 'withMask', 'withMask', 'withMask', 'withMask', 'withMask', 'withMask', 'withMask', 'withMask', 'withMask', 'withMask', 'withMask', 'withMask', 'withMask', 'withMask', 'withMask', 'withMask', 'withMask', 'withMask', 'withMask', 'withMask', 'withMask', 'withMask', 'withMask', 'withMask', 'withMask', 'withMask', 'withMask', 'withMask', 'withMask', 'withMask', 'withMask', 'withMask', 'withMask', 'withMask', 'withMask', 'withMask', 'withMask', 'withMask', 'withMask', 'withMask', 'withMask', 'withMask', 'withMask', 'withMask', 'withMask', 'withMask', 'withMask', 'withMask', 'withMask', 'withMask', 'withMask', 'withMask', 'withMask', 'withMask', 'withMask', 'withMask', 'withMask', 'withMask', 'withMask', 'withMask', 'withMask', 'withMask', 'withMask', 'withMask', 'withMask', 'withMask', 'withMask', 'withMask', 'withMask', 'withMask', 'withMask', 'withMask', 'withMask', 'withMask', 'withMask', 'withMask', 'withMask', 'withMask', 'withMask', 'withMask', 'withMask', 'withMask', 'withMask', 'withMask', 'withMask', 'withMask', 'withMask', 'withMask', 'withMask', 'withMask', 'withMask', 'withMask', 'withMask', 'withMask', 'withMask', 'withMask', 'withMask', 'withMask', 'withMask', 'withMask', 'withMask', 'withMask', 'withMask', 'withMask', 'withMask', 'withMask', 'withMask', 'withMask', 'withMask', 'withMask', 'withMask', 'withMask', 'withMask', 'withMask', 'withMask', 'withMask', 'withMask', 'withMask', 'withMask', 'withMask', 'withMask', 'withMask', 'withMask', 'withMask', 'withMask', 'withMask', 'withMask', 'withMask', 'withMask', 'withMask', 'withMask', 'withMask', 'withMask', 'withMask', 'withMask', 'withMask', 'withMask', 'withMask', 'withMask', 'withMask', 'withMask', 'withMask', 'withMask', 'withMask', 'withMask', 'withMask', 'withMask', 'withMask', 'withMask', 'withMask', 'withMask', 'withMask', 'withMask', 'withMask', 'withMask', 'withMask', 'withMask', 'withMask', 'withMask', 'withMask', 'withMask', 'withMask', 'withMask', 'withMask', 'withMask', 'withMask', 'withMask', 'withMask', 'withMask', 'withMask', 'withMask', 'withMask', 'withMask', 'withMask', 'withMask', 'withMask', 'withMask', 'withMask', 'withMask', 'withMask', 'withMask', 'withMask', 'withMask', 'withMask', 'withMask', 'withMask', 'withMask', 'withMask', 'withMask', 'withMask', 'withMask', 'withMask', 'withMask', 'withMask', 'withMask', 'withMask', 'withMask', 'withMask', 'withMask', 'withMask', 'withMask', 'withMask', 'withMask', 'withMask', 'withMask', 'withMask', 'withMask', 'withMask', 'withMask', 'withMask', 'withMask', 'withMask', 'withMask', 'withMask', 'withMask', 'withMask', 'withMask', 'withMask', 'withMask', 'withMask', 'withMask', 'withMask', 'withMask', 'withMask', 'withMask', 'withMask', 'withMask', 'withMask', 'withMask', 'withMask', 'withMask', 'withMask', 'withMask', 'withMask', 'withMask', 'withMask', 'withMask', 'withMask', 'withMask', 'withMask', 'withMask', 'withMask', 'withMask', 'withMask', 'withMask', 'withMask', 'withMask', 'withMask', 'withMask', 'withMask', 'withMask', 'withMask', 'withMask', 'withMask', 'withMask', 'withMask', 'withMask', 'withMask', 'withMask', 'withMask', 'withMask', 'withMask', 'withMask', 'withMask', 'withMask', 'withMask', 'withMask', 'withMask', 'withMask', 'withMask', 'withMask', 'withMask', 'withMask', 'withMask', 'withMask', 'withMask', 'withMask', 'withMask', 'withMask', 'withMask', 'withMask', 'withMask', 'withMask', 'withMask', 'withMask', 'withMask', 'withMask', 'withMask', 'withMask', 'withMask', 'withMask', 'withMask', 'withMask', 'withMask', 'withMask', 'withMask', 'withMask', 'withMask', 'withMask', 'withMask', 'withMask', 'withMask', 'withMask', 'withMask', 'withMask', 'withMask', 'withMask', 'withMask', 'withMask', 'withMask', 'withMask', 'withMask', 'withMask', 'withMask', 'withMask', 'withMask', 'withMask', 'withMask', 'withMask', 'withMask', 'withMask', 'withMask', 'withMask', 'withMask', 'withMask', 'withMask', 'withMask', 'withMask', 'withMask', 'withMask', 'withMask', 'withMask', 'withMask', 'withMask', 'withMask', 'withMask', 'withMask', 'withMask', 'withMask', 'withMask', 'withMask', 'withMask', 'withMask', 'withMask', 'withMask', 'withMask', 'withMask', 'withMask', 'withMask', 'withMask', 'withMask', 'withMask', 'withMask', 'withMask', 'withMask', 'withMask', 'withMask', 'withMask', 'withMask', 'withMask', 'withMask', 'withMask', 'withMask', 'withMask', 'withMask', 'withMask', 'withMask', 'withMask', 'withMask', 'withMask', 'withMask', 'withMask', 'withMask', 'withMask', 'withMask', 'withMask', 'withMask', 'withMask', 'withMask', 'withMask', 'withMask', 'withMask', 'withMask', 'withMask', 'withMask', 'withMask', 'withMask', 'withMask', 'withMask', 'withMask', 'withMask', 'withMask', 'withMask', 'withMask', 'withMask', 'withMask', 'withMask', 'withMask', 'withMask', 'withMask', 'withMask', 'withMask', 'withMask', 'withMask', 'withMask', 'withMask', 'withMask', 'withMask', 'withMask', 'withMask', 'withMask', 'withMask', 'withMask', 'withMask', 'withMask', 'withMask', 'withMask', 'withMask', 'withMask', 'withMask', 'withMask', 'withMask', 'withMask', 'withMask', 'withMask', 'withMask', 'withMask', 'withMask', 'withMask', 'withMask', 'withMask', 'withMask', 'withMask', 'withMask', 'withMask', 'withMask', 'withMask', 'withMask', 'withMask', 'withMask', 'withMask', 'withMask', 'withMask', 'withMask', 'withMask', 'withMask', 'withMask', 'withMask', 'withMask', 'withMask', 'withMask', 'withMask', 'withMask', 'withMask', 'withMask', 'withMask', 'withMask', 'withMask', 'withMask', 'withMask', 'withMask', 'withMask', 'withMask', 'withMask', 'withMask', 'withMask', 'withMask', 'withMask', 'withMask', 'withMask', 'withMask', 'withMask', 'withMask', 'withMask', 'withMask', 'withMask', 'withMask', 'withMask', 'withMask', 'withMask', 'withMask', 'withMask', 'withMask', 'withMask', 'withMask', 'withMask', 'withMask', 'withMask', 'withMask', 'withMask', 'withMask', 'withMask', 'withMask', 'withMask', 'withMask', 'withMask', 'withMask', 'withMask', 'withMask', 'withMask', 'withMask', 'withMask', 'withMask', 'withMask', 'withMask', 'withMask', 'withMask', 'withMask', 'withMask', 'withMask', 'withMask', 'withMask', 'withMask', 'withMask', 'withMask', 'withMask', 'withMask', 'withMask', 'withMask', 'withMask', 'withMask', 'withMask', 'withMask', 'withMask', 'withMask', 'withMask', 'withMask', 'withMask', 'withMask', 'withMask', 'withMask', 'withMask', 'withMask', 'withMask', 'withMask', 'withMask', 'withMask', 'withMask', 'withMask', 'withMask', 'withMask', 'withMask', 'withMask', 'withMask', 'withMask', 'withMask', 'withMask', 'withMask', 'withMask', 'withMask', 'withMask', 'withMask', 'withMask', 'withMask', 'withMask', 'withMask', 'withMask', 'withMask', 'withMask', 'withMask', 'withMask', 'withMask', 'withMask', 'withMask', 'withMask', 'withMask', 'withMask', 'withMask', 'withMask', 'withMask', 'withMask', 'withMask', 'withMask', 'withMask', 'withMask', 'withMask', 'withMask', 'withMask', 'withMask', 'withMask', 'withMask', 'withMask', 'withMask', 'withMask', 'withMask', 'withMask', 'withMask', 'withMask', 'withMask', 'withMask', 'withMask', 'withMask', 'withMask', 'withMask', 'withMask', 'withMask', 'withMask', 'withMask', 'withMask', 'withMask', 'withMask', 'withMask', 'withMask', 'withMask', 'withMask', 'withMask', 'withMask', 'withMask', 'withMask', 'withMask', 'withMask', 'withMask', 'withMask', 'withMask', 'withMask', 'withMask', 'withMask', 'withMask', 'withMask', 'withMask', 'withMask', 'withMask', 'withMask', 'withMask', 'withMask', 'withMask', 'withMask', 'withMask', 'withMask', 'withMask', 'withMask', 'withMask', 'withMask', 'withMask', 'withMask', 'withMask', 'withMask', 'withMask', 'withMask', 'withMask', 'withMask', 'withMask', 'withMask', 'withMask', 'withMask', 'withMask', 'withMask', 'withMask', 'withMask', 'withMask', 'withMask', 'withMask', 'withMask', 'withMask', 'withMask', 'withMask', 'withMask', 'withMask', 'withMask', 'withMask', 'withMask', 'withMask', 'withMask', 'withMask', 'withMask', 'withMask', 'withMask', 'withMask', 'withMask', 'withMask', 'withMask', 'withMask', 'withMask', 'withMask', 'withMask', 'withMask', 'withMask', 'withMask', 'withMask', 'withMask', 'withMask', 'withMask', 'withMask', 'withMask', 'withMask', 'withMask', 'withMask', 'withMask', 'withMask', 'withMask', 'withMask', 'withMask', 'withMask', 'withMask', 'withMask', 'withMask', 'withMask', 'withMask', 'withMask', 'withMask', 'withMask', 'withMask', 'withMask', 'withMask', 'withMask', 'withMask', 'withMask', 'withMask', 'withMask', 'withMask', 'withMask', 'withMask', 'withMask', 'withMask', 'withMask', 'withMask', 'withMask', 'withMask', 'withMask', 'withMask', 'withMask', 'withMask', 'withMask', 'withMask', 'withMask', 'withMask', 'withMask', 'withMask', 'withMask', 'withMask', 'withMask', 'withMask', 'withMask', 'withMask', 'withMask', 'withMask', 'withMask', 'withMask', 'withMask', 'withMask', 'withMask', 'withMask', 'withMask', 'withMask', 'withMask', 'withMask', 'withMask', 'withMask', 'withMask', 'withMask', 'withMask', 'withMask', 'withMask', 'withMask', 'withMask', 'withMask', 'withMask', 'withMask', 'withMask', 'withMask', 'withMask', 'withMask', 'withMask', 'withMask', 'withMask', 'withMask', 'withMask', 'withMask', 'withMask', 'withMask', 'withMask', 'withMask', 'withMask', 'withMask', 'withMask', 'withMask', 'withMask', 'withMask', 'withMask', 'withMask', 'withMask', 'withMask', 'withMask', 'withMask', 'withMask', 'withMask', 'withMask', 'withMask', 'withMask', 'withMask', 'withMask', 'withMask', 'withMask', 'withMask', 'withMask', 'withMask', 'withMask', 'withMask', 'withMask', 'withMask', 'withMask', 'withMask', 'withMask', 'withMask', 'withMask', 'withMask', 'withMask', 'withMask', 'withMask', 'withMask', 'withMask', 'withMask', 'withMask', 'withMask', 'withMask', 'withMask', 'withMask', 'withMask', 'withMask', 'withMask', 'withMask', 'withMask', 'withMask', 'withMask', 'withMask', 'withMask', 'withMask', 'withMask', 'withMask', 'withMask', 'withMask', 'withMask', 'withMask', 'withMask', 'withMask', 'withMask', 'withMask', 'withMask', 'withMask', 'withMask', 'withMask', 'withMask', 'withMask', 'withMask', 'withMask', 'withMask', 'withMask', 'withMask', 'withMask', 'withMask', 'withMask', 'withMask', 'withMask', 'withMask', 'withMask', 'withMask', 'withMask', 'withMask', 'withMask', 'withMask', 'withMask', 'withMask', 'withMask', 'withMask', 'withMask', 'withMask', 'withMask', 'withMask', 'withMask', 'withMask', 'withMask', 'withMask', 'withMask', 'withMask', 'withMask', 'withMask', 'withMask', 'withMask', 'withMask', 'withMask', 'withMask', 'withMask', 'withMask', 'withMask', 'withMask', 'withMask', 'withMask', 'withMask', 'withMask', 'withMask', 'withMask', 'withMask', 'withMask', 'withMask', 'withMask', 'withMask', 'withMask', 'withMask', 'withMask', 'withMask', 'withMask', 'withMask', 'withMask', 'withMask', 'withMask', 'withMask', 'withMask', 'withMask', 'withMask', 'withMask', 'withMask', 'withMask', 'withMask', 'withMask', 'withMask', 'withMask', 'withMask', 'withMask', 'withMask', 'withMask', 'withMask', 'withMask', 'withMask', 'withMask', 'withMask', 'withMask', 'withMask', 'withMask', 'withMask', 'withMask', 'withMask', 'withMask', 'withMask', 'withMask', 'withMask', 'withMask', 'withMask', 'withMask', 'withMask', 'withMask', 'withMask', 'withMask', 'withMask', 'withMask', 'withMask', 'withMask', 'withMask', 'withMask', 'withMask', 'withMask', 'withMask', 'withMask', 'withMask', 'withMask', 'withMask', 'withMask', 'withMask', 'withMask', 'withMask', 'withMask', 'withMask', 'withMask', 'withMask', 'withMask', 'withMask', 'withMask', 'withMask', 'withMask', 'withMask', 'withMask', 'withMask', 'withMask', 'withMask', 'withMask', 'withMask', 'withMask', 'withMask', 'withMask', 'withMask', 'withMask', 'withMask', 'withMask', 'withMask', 'withMask', 'withMask', 'withMask', 'withMask', 'withMask', 'withMask', 'withMask', 'withMask', 'withMask', 'withMask', 'withMask', 'withMask', 'withMask', 'withMask', 'withMask', 'withMask', 'withMask', 'withMask', 'withMask', 'withMask', 'withMask', 'withMask', 'withMask', 'withMask', 'withMask', 'withMask', 'withMask', 'withMask', 'withMask', 'withMask', 'withMask', 'withMask', 'withMask', 'withMask', 'withMask', 'withMask', 'withMask', 'withMask', 'withMask', 'withMask', 'withMask', 'withMask', 'withMask', 'withMask', 'withMask', 'withMask', 'withMask', 'withMask', 'withMask', 'withMask', 'withMask', 'withMask', 'withMask', 'withMask', 'withMask', 'withMask', 'withMask', 'withMask', 'withMask', 'withMask', 'withMask', 'withMask', 'withMask', 'withMask', 'withMask', 'withMask', 'withMask', 'withMask', 'withMask', 'withMask', 'withMask', 'withMask', 'withMask', 'withMask', 'withMask', 'withMask', 'withMask', 'withMask', 'withMask', 'withMask', 'withMask', 'withMask', 'withMask', 'withMask', 'withMask', 'withMask', 'withMask', 'withMask', 'withMask', 'withMask', 'withMask', 'withMask', 'withMask', 'withMask', 'withMask', 'withMask', 'withMask', 'withMask', 'withMask', 'withMask', 'withMask', 'withMask', 'withMask', 'withMask', 'withMask', 'withMask', 'withMask', 'withMask', 'withMask', 'withMask', 'withMask', 'withMask', 'withMask', 'withMask', 'withMask', 'withMask', 'withMask', 'withMask', 'withMask', 'withMask', 'withMask', 'withMask', 'withMask', 'withMask', 'withMask', 'withMask', 'withMask', 'withMask', 'withMask', 'withMask', 'withMask', 'withMask', 'withMask', 'withMask', 'withMask', 'withMask', 'withMask', 'withMask', 'withMask', 'withMask', 'withMask', 'withMask', 'withMask', 'withMask', 'withMask', 'withMask', 'withMask', 'withMask', 'withMask', 'withMask', 'withMask', 'withMask', 'withMask', 'withMask', 'withMask', 'withMask', 'withMask', 'withMask', 'withMask', 'withMask', 'withMask', 'withMask', 'withMask', 'withMask', 'withMask', 'withMask', 'withMask', 'withMask', 'withMask', 'withMask', 'withMask', 'withMask', 'withMask', 'withMask', 'withMask', 'withMask', 'withMask', 'withMask', 'withMask', 'withMask', 'withMask', 'withMask', 'withMask', 'withMask', 'withMask', 'withMask', 'withMask', 'withMask', 'withMask', 'withMask', 'withMask', 'withMask', 'withMask', 'withMask', 'withMask', 'withMask', 'withMask', 'withMask', 'withMask', 'withMask', 'withMask', 'withMask', 'withMask', 'withMask', 'withMask', 'withMask', 'withMask', 'withMask', 'withMask', 'withMask', 'withMask', 'withMask', 'withMask', 'withMask', 'withMask', 'withMask', 'withMask', 'withMask', 'withMask', 'withMask', 'withMask', 'withMask', 'withMask', 'withMask', 'withMask', 'withMask', 'withMask', 'withMask', 'withMask', 'withMask', 'withMask', 'withMask', 'withMask', 'withMask', 'withMask', 'withMask', 'withMask', 'withMask', 'withMask', 'withMask', 'withMask', 'withMask', 'withMask', 'withMask', 'withMask', 'withMask', 'withMask', 'withMask', 'withMask', 'withMask', 'withMask', 'withMask', 'withMask', 'withMask', 'withMask', 'withMask', 'withMask', 'withMask', 'withMask', 'withMask', 'withMask', 'withMask', 'withMask', 'withMask', 'withMask', 'withMask', 'withMask', 'withMask', 'withMask', 'withMask', 'withMask', 'withMask', 'withMask', 'withMask', 'withMask', 'withMask', 'withMask', 'withMask', 'withMask', 'withMask', 'withMask', 'withMask', 'withMask', 'withMask', 'withMask', 'withMask', 'withMask', 'withMask', 'withMask', 'withMask', 'withMask', 'withMask', 'withMask', 'withMask', 'withMask', 'withMask', 'withMask', 'withMask', 'withMask', 'withMask', 'withMask', 'withMask', 'withMask', 'withMask', 'withMask', 'withMask', 'withMask', 'withMask', 'withMask', 'withMask', 'withMask', 'withMask', 'withMask', 'withMask', 'withMask', 'withMask', 'withMask', 'withMask', 'withMask', 'withMask', 'withMask', 'withMask', 'withMask', 'withMask', 'withMask', 'withMask', 'withMask', 'withMask', 'withMask', 'withMask', 'withMask', 'withMask', 'withMask', 'withMask', 'withMask', 'withMask', 'withMask', 'withMask', 'withMask', 'withMask', 'withoutMask', 'withoutMask', 'withoutMask', 'withoutMask', 'withoutMask', 'withoutMask', 'withoutMask', 'withoutMask', 'withoutMask', 'withoutMask', 'withoutMask', 'withoutMask', 'withoutMask', 'withoutMask', 'withoutMask', 'withoutMask', 'withoutMask', 'withoutMask', 'withoutMask', 'withoutMask', 'withoutMask', 'withoutMask', 'withoutMask', 'withoutMask', 'withoutMask', 'withoutMask', 'withoutMask', 'withoutMask', 'withoutMask', 'withoutMask', 'withoutMask', 'withoutMask', 'withoutMask', 'withoutMask', 'withoutMask', 'withoutMask', 'withoutMask', 'withoutMask', 'withoutMask', 'withoutMask', 'withoutMask', 'withoutMask', 'withoutMask', 'withoutMask', 'withoutMask', 'withoutMask', 'withoutMask', 'withoutMask', 'withoutMask', 'withoutMask', 'withoutMask', 'withoutMask', 'withoutMask', 'withoutMask', 'withoutMask', 'withoutMask', 'withoutMask', 'withoutMask', 'withoutMask', 'withoutMask', 'withoutMask', 'withoutMask', 'withoutMask', 'withoutMask', 'withoutMask', 'withoutMask', 'withoutMask', 'withoutMask', 'withoutMask', 'withoutMask', 'withoutMask', 'withoutMask', 'withoutMask', 'withoutMask', 'withoutMask', 'withoutMask', 'withoutMask', 'withoutMask', 'withoutMask', 'withoutMask', 'withoutMask', 'withoutMask', 'withoutMask', 'withoutMask', 'withoutMask', 'withoutMask', 'withoutMask', 'withoutMask', 'withoutMask', 'withoutMask', 'withoutMask', 'withoutMask', 'withoutMask', 'withoutMask', 'withoutMask', 'withoutMask', 'withoutMask', 'withoutMask', 'withoutMask', 'withoutMask', 'withoutMask', 'withoutMask', 'withoutMask', 'withoutMask', 'withoutMask', 'withoutMask', 'withoutMask', 'withoutMask', 'withoutMask', 'withoutMask', 'withoutMask', 'withoutMask', 'withoutMask', 'withoutMask', 'withoutMask', 'withoutMask', 'withoutMask', 'withoutMask', 'withoutMask', 'withoutMask', 'withoutMask', 'withoutMask', 'withoutMask', 'withoutMask', 'withoutMask', 'withoutMask', 'withoutMask', 'withoutMask', 'withoutMask', 'withoutMask', 'withoutMask', 'withoutMask', 'withoutMask', 'withoutMask', 'withoutMask', 'withoutMask', 'withoutMask', 'withoutMask', 'withoutMask', 'withoutMask', 'withoutMask', 'withoutMask', 'withoutMask', 'withoutMask', 'withoutMask', 'withoutMask', 'withoutMask', 'withoutMask', 'withoutMask', 'withoutMask', 'withoutMask', 'withoutMask', 'withoutMask', 'withoutMask', 'withoutMask', 'withoutMask', 'withoutMask', 'withoutMask', 'withoutMask', 'withoutMask', 'withoutMask', 'withoutMask', 'withoutMask', 'withoutMask', 'withoutMask', 'withoutMask', 'withoutMask', 'withoutMask', 'withoutMask', 'withoutMask', 'withoutMask', 'withoutMask', 'withoutMask', 'withoutMask', 'withoutMask', 'withoutMask', 'withoutMask', 'withoutMask', 'withoutMask', 'withoutMask', 'withoutMask', 'withoutMask', 'withoutMask', 'withoutMask', 'withoutMask', 'withoutMask', 'withoutMask', 'withoutMask', 'withoutMask', 'withoutMask', 'withoutMask', 'withoutMask', 'withoutMask', 'withoutMask', 'withoutMask', 'withoutMask', 'withoutMask', 'withoutMask', 'withoutMask', 'withoutMask', 'withoutMask', 'withoutMask', 'withoutMask', 'withoutMask', 'withoutMask', 'withoutMask', 'withoutMask', 'withoutMask', 'withoutMask', 'withoutMask', 'withoutMask', 'withoutMask', 'withoutMask', 'withoutMask', 'withoutMask', 'withoutMask', 'withoutMask', 'withoutMask', 'withoutMask', 'withoutMask', 'withoutMask', 'withoutMask', 'withoutMask', 'withoutMask', 'withoutMask', 'withoutMask', 'withoutMask', 'withoutMask', 'withoutMask', 'withoutMask', 'withoutMask', 'withoutMask', 'withoutMask', 'withoutMask', 'withoutMask', 'withoutMask', 'withoutMask', 'withoutMask', 'withoutMask', 'withoutMask', 'withoutMask', 'withoutMask', 'withoutMask', 'withoutMask', 'withoutMask', 'withoutMask', 'withoutMask', 'withoutMask', 'withoutMask', 'withoutMask', 'withoutMask', 'withoutMask', 'withoutMask', 'withoutMask', 'withoutMask', 'withoutMask', 'withoutMask', 'withoutMask', 'withoutMask', 'withoutMask', 'withoutMask', 'withoutMask', 'withoutMask', 'withoutMask', 'withoutMask', 'withoutMask', 'withoutMask', 'withoutMask', 'withoutMask', 'withoutMask', 'withoutMask', 'withoutMask', 'withoutMask', 'withoutMask', 'withoutMask', 'withoutMask', 'withoutMask', 'withoutMask', 'withoutMask', 'withoutMask', 'withoutMask', 'withoutMask', 'withoutMask', 'withoutMask', 'withoutMask', 'withoutMask', 'withoutMask', 'withoutMask', 'withoutMask', 'withoutMask', 'withoutMask', 'withoutMask', 'withoutMask', 'withoutMask', 'withoutMask', 'withoutMask', 'withoutMask', 'withoutMask', 'withoutMask', 'withoutMask', 'withoutMask', 'withoutMask', 'withoutMask', 'withoutMask', 'withoutMask', 'withoutMask', 'withoutMask', 'withoutMask', 'withoutMask', 'withoutMask', 'withoutMask', 'withoutMask', 'withoutMask', 'withoutMask', 'withoutMask', 'withoutMask', 'withoutMask', 'withoutMask', 'withoutMask', 'withoutMask', 'withoutMask', 'withoutMask', 'withoutMask', 'withoutMask', 'withoutMask', 'withoutMask', 'withoutMask', 'withoutMask', 'withoutMask', 'withoutMask', 'withoutMask', 'withoutMask', 'withoutMask', 'withoutMask', 'withoutMask', 'withoutMask', 'withoutMask', 'withoutMask', 'withoutMask', 'withoutMask', 'withoutMask', 'withoutMask', 'withoutMask', 'withoutMask', 'withoutMask', 'withoutMask', 'withoutMask', 'withoutMask', 'withoutMask', 'withoutMask', 'withoutMask', 'withoutMask', 'withoutMask', 'withoutMask', 'withoutMask', 'withoutMask', 'withoutMask', 'withoutMask', 'withoutMask', 'withoutMask', 'withoutMask', 'withoutMask', 'withoutMask', 'withoutMask', 'withoutMask', 'withoutMask', 'withoutMask', 'withoutMask', 'withoutMask', 'withoutMask', 'withoutMask', 'withoutMask', 'withoutMask', 'withoutMask', 'withoutMask', 'withoutMask', 'withoutMask', 'withoutMask', 'withoutMask', 'withoutMask', 'withoutMask', 'withoutMask', 'withoutMask', 'withoutMask', 'withoutMask', 'withoutMask', 'withoutMask', 'withoutMask', 'withoutMask', 'withoutMask', 'withoutMask', 'withoutMask', 'withoutMask', 'withoutMask', 'withoutMask', 'withoutMask', 'withoutMask', 'withoutMask', 'withoutMask', 'withoutMask', 'withoutMask', 'withoutMask', 'withoutMask', 'withoutMask', 'withoutMask', 'withoutMask', 'withoutMask', 'withoutMask', 'withoutMask', 'withoutMask', 'withoutMask', 'withoutMask', 'withoutMask', 'withoutMask', 'withoutMask', 'withoutMask', 'withoutMask', 'withoutMask', 'withoutMask', 'withoutMask', 'withoutMask', 'withoutMask', 'withoutMask', 'withoutMask', 'withoutMask', 'withoutMask', 'withoutMask', 'withoutMask', 'withoutMask', 'withoutMask', 'withoutMask', 'withoutMask', 'withoutMask', 'withoutMask', 'withoutMask', 'withoutMask', 'withoutMask', 'withoutMask', 'withoutMask', 'withoutMask', 'withoutMask', 'withoutMask', 'withoutMask', 'withoutMask', 'withoutMask', 'withoutMask', 'withoutMask', 'withoutMask', 'withoutMask', 'withoutMask', 'withoutMask', 'withoutMask', 'withoutMask', 'withoutMask', 'withoutMask', 'withoutMask', 'withoutMask', 'withoutMask', 'withoutMask', 'withoutMask', 'withoutMask', 'withoutMask', 'withoutMask', 'withoutMask', 'withoutMask', 'withoutMask', 'withoutMask', 'withoutMask', 'withoutMask', 'withoutMask', 'withoutMask', 'withoutMask', 'withoutMask', 'withoutMask', 'withoutMask', 'withoutMask', 'withoutMask', 'withoutMask', 'withoutMask', 'withoutMask', 'withoutMask', 'withoutMask', 'withoutMask', 'withoutMask', 'withoutMask', 'withoutMask', 'withoutMask', 'withoutMask', 'withoutMask', 'withoutMask', 'withoutMask', 'withoutMask', 'withoutMask', 'withoutMask', 'withoutMask', 'withoutMask', 'withoutMask', 'withoutMask', 'withoutMask', 'withoutMask', 'withoutMask', 'withoutMask', 'withoutMask', 'withoutMask', 'withoutMask', 'withoutMask', 'withoutMask', 'withoutMask', 'withoutMask', 'withoutMask', 'withoutMask', 'withoutMask', 'withoutMask', 'withoutMask', 'withoutMask', 'withoutMask', 'withoutMask', 'withoutMask', 'withoutMask', 'withoutMask', 'withoutMask', 'withoutMask', 'withoutMask', 'withoutMask', 'withoutMask', 'withoutMask', 'withoutMask', 'withoutMask', 'withoutMask', 'withoutMask', 'withoutMask', 'withoutMask', 'withoutMask', 'withoutMask', 'withoutMask', 'withoutMask', 'withoutMask', 'withoutMask', 'withoutMask', 'withoutMask', 'withoutMask', 'withoutMask', 'withoutMask', 'withoutMask', 'withoutMask', 'withoutMask', 'withoutMask', 'withoutMask', 'withoutMask', 'withoutMask', 'withoutMask', 'withoutMask', 'withoutMask', 'withoutMask', 'withoutMask', 'withoutMask', 'withoutMask', 'withoutMask', 'withoutMask', 'withoutMask', 'withoutMask', 'withoutMask', 'withoutMask', 'withoutMask', 'withoutMask', 'withoutMask', 'withoutMask', 'withoutMask', 'withoutMask', 'withoutMask', 'withoutMask', 'withoutMask', 'withoutMask', 'withoutMask', 'withoutMask', 'withoutMask', 'withoutMask', 'withoutMask', 'withoutMask', 'withoutMask', 'withoutMask', 'withoutMask', 'withoutMask', 'withoutMask', 'withoutMask', 'withoutMask', 'withoutMask', 'withoutMask', 'withoutMask', 'withoutMask', 'withoutMask', 'withoutMask', 'withoutMask', 'withoutMask', 'withoutMask', 'withoutMask', 'withoutMask', 'withoutMask', 'withoutMask', 'withoutMask', 'withoutMask', 'withoutMask', 'withoutMask', 'withoutMask', 'withoutMask', 'withoutMask', 'withoutMask', 'withoutMask', 'withoutMask', 'withoutMask', 'withoutMask', 'withoutMask', 'withoutMask', 'withoutMask', 'withoutMask', 'withoutMask', 'withoutMask', 'withoutMask', 'withoutMask', 'withoutMask', 'withoutMask', 'withoutMask', 'withoutMask', 'withoutMask', 'withoutMask', 'withoutMask', 'withoutMask', 'withoutMask', 'withoutMask', 'withoutMask', 'withoutMask', 'withoutMask', 'withoutMask', 'withoutMask', 'withoutMask', 'withoutMask', 'withoutMask', 'withoutMask', 'withoutMask', 'withoutMask', 'withoutMask', 'withoutMask', 'withoutMask', 'withoutMask', 'withoutMask', 'withoutMask', 'withoutMask', 'withoutMask', 'withoutMask', 'withoutMask', 'withoutMask', 'withoutMask', 'withoutMask', 'withoutMask', 'withoutMask', 'withoutMask', 'withoutMask', 'withoutMask', 'withoutMask', 'withoutMask', 'withoutMask', 'withoutMask', 'withoutMask', 'withoutMask', 'withoutMask', 'withoutMask', 'withoutMask', 'withoutMask', 'withoutMask', 'withoutMask', 'withoutMask', 'withoutMask', 'withoutMask', 'withoutMask', 'withoutMask', 'withoutMask', 'withoutMask', 'withoutMask', 'withoutMask', 'withoutMask', 'withoutMask', 'withoutMask', 'withoutMask', 'withoutMask', 'withoutMask', 'withoutMask', 'withoutMask', 'withoutMask', 'withoutMask', 'withoutMask', 'withoutMask', 'withoutMask', 'withoutMask', 'withoutMask', 'withoutMask', 'withoutMask', 'withoutMask', 'withoutMask', 'withoutMask', 'withoutMask', 'withoutMask', 'withoutMask', 'withoutMask', 'withoutMask', 'withoutMask', 'withoutMask', 'withoutMask', 'withoutMask', 'withoutMask', 'withoutMask', 'withoutMask', 'withoutMask', 'withoutMask', 'withoutMask', 'withoutMask', 'withoutMask', 'withoutMask', 'withoutMask', 'withoutMask', 'withoutMask', 'withoutMask', 'withoutMask', 'withoutMask', 'withoutMask', 'withoutMask', 'withoutMask', 'withoutMask', 'withoutMask', 'withoutMask', 'withoutMask', 'withoutMask', 'withoutMask', 'withoutMask', 'withoutMask', 'withoutMask', 'withoutMask', 'withoutMask', 'withoutMask', 'withoutMask', 'withoutMask', 'withoutMask', 'withoutMask', 'withoutMask', 'withoutMask', 'withoutMask', 'withoutMask', 'withoutMask', 'withoutMask', 'withoutMask', 'withoutMask', 'withoutMask', 'withoutMask', 'withoutMask', 'withoutMask', 'withoutMask', 'withoutMask', 'withoutMask', 'withoutMask', 'withoutMask', 'withoutMask', 'withoutMask', 'withoutMask', 'withoutMask', 'withoutMask', 'withoutMask', 'withoutMask', 'withoutMask', 'withoutMask', 'withoutMask', 'withoutMask', 'withoutMask', 'withoutMask', 'withoutMask', 'withoutMask', 'withoutMask', 'withoutMask', 'withoutMask', 'withoutMask', 'withoutMask', 'withoutMask', 'withoutMask', 'withoutMask', 'withoutMask', 'withoutMask', 'withoutMask', 'withoutMask', 'withoutMask', 'withoutMask', 'withoutMask', 'withoutMask', 'withoutMask', 'withoutMask', 'withoutMask', 'withoutMask', 'withoutMask', 'withoutMask', 'withoutMask', 'withoutMask', 'withoutMask', 'withoutMask', 'withoutMask', 'withoutMask', 'withoutMask', 'withoutMask', 'withoutMask', 'withoutMask', 'withoutMask', 'withoutMask', 'withoutMask', 'withoutMask', 'withoutMask', 'withoutMask', 'withoutMask', 'withoutMask', 'withoutMask', 'withoutMask', 'withoutMask', 'withoutMask', 'withoutMask', 'withoutMask', 'withoutMask', 'withoutMask', 'withoutMask', 'withoutMask', 'withoutMask', 'withoutMask', 'withoutMask', 'withoutMask', 'withoutMask', 'withoutMask', 'withoutMask', 'withoutMask', 'withoutMask', 'withoutMask', 'withoutMask', 'withoutMask', 'withoutMask', 'withoutMask', 'withoutMask', 'withoutMask', 'withoutMask', 'withoutMask', 'withoutMask', 'withoutMask', 'withoutMask', 'withoutMask', 'withoutMask', 'withoutMask', 'withoutMask', 'withoutMask', 'withoutMask', 'withoutMask', 'withoutMask', 'withoutMask', 'withoutMask', 'withoutMask', 'withoutMask', 'withoutMask', 'withoutMask', 'withoutMask', 'withoutMask', 'withoutMask', 'withoutMask', 'withoutMask', 'withoutMask', 'withoutMask', 'withoutMask', 'withoutMask', 'withoutMask', 'withoutMask', 'withoutMask', 'withoutMask', 'withoutMask', 'withoutMask', 'withoutMask', 'withoutMask', 'withoutMask', 'withoutMask', 'withoutMask', 'withoutMask', 'withoutMask', 'withoutMask', 'withoutMask', 'withoutMask', 'withoutMask', 'withoutMask', 'withoutMask', 'withoutMask', 'withoutMask', 'withoutMask', 'withoutMask', 'withoutMask', 'withoutMask', 'withoutMask', 'withoutMask', 'withoutMask', 'withoutMask', 'withoutMask', 'withoutMask', 'withoutMask', 'withoutMask', 'withoutMask', 'withoutMask', 'withoutMask', 'withoutMask', 'withoutMask', 'withoutMask', 'withoutMask', 'withoutMask', 'withoutMask', 'withoutMask', 'withoutMask', 'withoutMask', 'withoutMask', 'withoutMask', 'withoutMask', 'withoutMask', 'withoutMask', 'withoutMask', 'withoutMask', 'withoutMask', 'withoutMask', 'withoutMask', 'withoutMask', 'withoutMask', 'withoutMask', 'withoutMask', 'withoutMask', 'withoutMask', 'withoutMask', 'withoutMask', 'withoutMask', 'withoutMask', 'withoutMask', 'withoutMask', 'withoutMask', 'withoutMask', 'withoutMask', 'withoutMask', 'withoutMask', 'withoutMask', 'withoutMask', 'withoutMask', 'withoutMask', 'withoutMask', 'withoutMask', 'withoutMask', 'withoutMask', 'withoutMask', 'withoutMask', 'withoutMask', 'withoutMask', 'withoutMask', 'withoutMask', 'withoutMask', 'withoutMask', 'withoutMask', 'withoutMask', 'withoutMask', 'withoutMask', 'withoutMask', 'withoutMask', 'withoutMask', 'withoutMask', 'withoutMask', 'withoutMask', 'withoutMask', 'withoutMask', 'withoutMask', 'withoutMask', 'withoutMask', 'withoutMask', 'withoutMask', 'withoutMask', 'withoutMask', 'withoutMask', 'withoutMask', 'withoutMask', 'withoutMask', 'withoutMask', 'withoutMask', 'withoutMask', 'withoutMask', 'withoutMask', 'withoutMask', 'withoutMask', 'withoutMask', 'withoutMask', 'withoutMask', 'withoutMask', 'withoutMask', 'withoutMask', 'withoutMask', 'withoutMask', 'withoutMask', 'withoutMask', 'withoutMask', 'withoutMask', 'withoutMask', 'withoutMask', 'withoutMask', 'withoutMask', 'withoutMask', 'withoutMask', 'withoutMask', 'withoutMask', 'withoutMask', 'withoutMask', 'withoutMask', 'withoutMask', 'withoutMask', 'withoutMask', 'withoutMask', 'withoutMask', 'withoutMask', 'withoutMask', 'withoutMask', 'withoutMask', 'withoutMask', 'withoutMask', 'withoutMask', 'withoutMask', 'withoutMask', 'withoutMask', 'withoutMask', 'withoutMask', 'withoutMask', 'withoutMask', 'withoutMask', 'withoutMask', 'withoutMask', 'withoutMask', 'withoutMask', 'withoutMask', 'withoutMask', 'withoutMask', 'withoutMask', 'withoutMask', 'withoutMask', 'withoutMask', 'withoutMask', 'withoutMask', 'withoutMask', 'withoutMask', 'withoutMask', 'withoutMask', 'withoutMask', 'withoutMask', 'withoutMask', 'withoutMask', 'withoutMask', 'withoutMask', 'withoutMask', 'withoutMask', 'withoutMask', 'withoutMask', 'withoutMask', 'withoutMask', 'withoutMask', 'withoutMask', 'withoutMask', 'withoutMask', 'withoutMask', 'withoutMask', 'withoutMask', 'withoutMask', 'withoutMask', 'withoutMask', 'withoutMask', 'withoutMask', 'withoutMask', 'withoutMask', 'withoutMask', 'withoutMask', 'withoutMask', 'withoutMask', 'withoutMask', 'withoutMask', 'withoutMask', 'withoutMask', 'withoutMask', 'withoutMask', 'withoutMask', 'withoutMask', 'withoutMask', 'withoutMask', 'withoutMask', 'withoutMask', 'withoutMask', 'withoutMask', 'withoutMask', 'withoutMask', 'withoutMask', 'withoutMask', 'withoutMask', 'withoutMask', 'withoutMask', 'withoutMask', 'withoutMask', 'withoutMask', 'withoutMask', 'withoutMask', 'withoutMask', 'withoutMask', 'withoutMask', 'withoutMask', 'withoutMask', 'withoutMask', 'withoutMask', 'withoutMask', 'withoutMask', 'withoutMask', 'withoutMask', 'withoutMask', 'withoutMask', 'withoutMask', 'withoutMask', 'withoutMask', 'withoutMask', 'withoutMask', 'withoutMask', 'withoutMask', 'withoutMask', 'withoutMask', 'withoutMask', 'withoutMask', 'withoutMask', 'withoutMask', 'withoutMask', 'withoutMask', 'withoutMask', 'withoutMask', 'withoutMask', 'withoutMask', 'withoutMask', 'withoutMask', 'withoutMask', 'withoutMask', 'withoutMask', 'withoutMask', 'withoutMask', 'withoutMask', 'withoutMask', 'withoutMask', 'withoutMask', 'withoutMask', 'withoutMask', 'withoutMask', 'withoutMask', 'withoutMask', 'withoutMask', 'withoutMask', 'withoutMask', 'withoutMask', 'withoutMask', 'withoutMask', 'withoutMask', 'withoutMask', 'withoutMask', 'withoutMask', 'withoutMask', 'withoutMask', 'withoutMask', 'withoutMask', 'withoutMask', 'withoutMask', 'withoutMask', 'withoutMask', 'withoutMask', 'withoutMask', 'withoutMask', 'withoutMask', 'withoutMask', 'withoutMask', 'withoutMask', 'withoutMask', 'withoutMask', 'withoutMask', 'withoutMask', 'withoutMask', 'withoutMask', 'withoutMask', 'withoutMask', 'withoutMask', 'withoutMask', 'withoutMask', 'withoutMask', 'withoutMask', 'withoutMask', 'withoutMask', 'withoutMask', 'withoutMask', 'withoutMask', 'withoutMask', 'withoutMask', 'withoutMask', 'withoutMask', 'withoutMask', 'withoutMask', 'withoutMask', 'withoutMask', 'withoutMask', 'withoutMask', 'withoutMask', 'withoutMask', 'withoutMask', 'withoutMask', 'withoutMask', 'withoutMask', 'withoutMask', 'withoutMask', 'withoutMask', 'withoutMask', 'withoutMask', 'withoutMask', 'withoutMask', 'withoutMask', 'withoutMask', 'withoutMask', 'withoutMask', 'withoutMask', 'withoutMask', 'withoutMask', 'withoutMask', 'withoutMask', 'withoutMask', 'withoutMask', 'withoutMask', 'withoutMask', 'withoutMask', 'withoutMask', 'withoutMask', 'withoutMask', 'withoutMask', 'withoutMask', 'withoutMask', 'withoutMask', 'withoutMask', 'withoutMask', 'withoutMask', 'withoutMask', 'withoutMask', 'withoutMask', 'withoutMask', 'withoutMask', 'withoutMask', 'withoutMask', 'withoutMask', 'withoutMask', 'withoutMask', 'withoutMask', 'withoutMask', 'withoutMask', 'withoutMask', 'withoutMask', 'withoutMask', 'withoutMask', 'withoutMask', 'withoutMask', 'withoutMask', 'withoutMask', 'withoutMask', 'withoutMask', 'withoutMask', 'withoutMask', 'withoutMask', 'withoutMask', 'withoutMask', 'withoutMask', 'withoutMask', 'withoutMask', 'withoutMask', 'withoutMask', 'withoutMask', 'withoutMask', 'withoutMask', 'withoutMask', 'withoutMask', 'withoutMask', 'withoutMask', 'withoutMask', 'withoutMask', 'withoutMask', 'withoutMask', 'withoutMask', 'withoutMask', 'withoutMask', 'withoutMask', 'withoutMask', 'withoutMask', 'withoutMask', 'withoutMask', 'withoutMask', 'withoutMask', 'withoutMask', 'withoutMask', 'withoutMask', 'withoutMask', 'withoutMask', 'withoutMask', 'withoutMask', 'withoutMask', 'withoutMask', 'withoutMask', 'withoutMask', 'withoutMask', 'withoutMask', 'withoutMask', 'withoutMask', 'withoutMask', 'withoutMask', 'withoutMask', 'withoutMask', 'withoutMask', 'withoutMask', 'withoutMask', 'withoutMask', 'withoutMask', 'withoutMask', 'withoutMask', 'withoutMask', 'withoutMask', 'withoutMask', 'withoutMask', 'withoutMask', 'withoutMask', 'withoutMask', 'withoutMask', 'withoutMask', 'withoutMask', 'withoutMask', 'withoutMask', 'withoutMask', 'withoutMask', 'withoutMask', 'withoutMask', 'withoutMask', 'withoutMask', 'withoutMask', 'withoutMask', 'withoutMask', 'withoutMask', 'withoutMask', 'withoutMask', 'withoutMask', 'withoutMask', 'withoutMask', 'withoutMask', 'withoutMask', 'withoutMask', 'withoutMask', 'withoutMask', 'withoutMask', 'withoutMask', 'withoutMask', 'withoutMask', 'withoutMask', 'withoutMask', 'withoutMask', 'withoutMask', 'withoutMask', 'withoutMask', 'withoutMask', 'withoutMask', 'withoutMask', 'withoutMask', 'withoutMask', 'withoutMask', 'withoutMask', 'withoutMask', 'withoutMask', 'withoutMask', 'withoutMask', 'withoutMask', 'withoutMask', 'withoutMask', 'withoutMask', 'withoutMask', 'withoutMask', 'withoutMask', 'withoutMask', 'withoutMask', 'withoutMask', 'withoutMask', 'withoutMask', 'withoutMask', 'withoutMask', 'withoutMask', 'withoutMask', 'withoutMask', 'withoutMask', 'withoutMask', 'withoutMask', 'withoutMask', 'withoutMask', 'withoutMask', 'withoutMask', 'withoutMask', 'withoutMask', 'withoutMask', 'withoutMask', 'withoutMask', 'withoutMask', 'withoutMask', 'withoutMask', 'withoutMask', 'withoutMask', 'withoutMask', 'withoutMask', 'withoutMask', 'withoutMask', 'withoutMask', 'withoutMask', 'withoutMask', 'withoutMask', 'withoutMask', 'withoutMask', 'withoutMask', 'withoutMask', 'withoutMask', 'withoutMask', 'withoutMask', 'withoutMask', 'withoutMask', 'withoutMask', 'withoutMask', 'withoutMask', 'withoutMask', 'withoutMask', 'withoutMask', 'withoutMask', 'withoutMask', 'withoutMask', 'withoutMask', 'withoutMask', 'withoutMask', 'withoutMask', 'withoutMask', 'withoutMask', 'withoutMask', 'withoutMask', 'withoutMask', 'withoutMask', 'withoutMask', 'withoutMask', 'withoutMask', 'withoutMask', 'withoutMask', 'withoutMask', 'withoutMask', 'withoutMask', 'withoutMask', 'withoutMask', 'withoutMask', 'withoutMask', 'withoutMask', 'withoutMask', 'withoutMask', 'withoutMask', 'withoutMask', 'withoutMask', 'withoutMask', 'withoutMask', 'withoutMask', 'withoutMask', 'withoutMask', 'withoutMask', 'withoutMask', 'withoutMask', 'withoutMask', 'withoutMask', 'withoutMask', 'withoutMask', 'withoutMask', 'withoutMask', 'withoutMask', 'withoutMask', 'withoutMask', 'withoutMask', 'withoutMask', 'withoutMask', 'withoutMask', 'withoutMask', 'withoutMask', 'withoutMask', 'withoutMask', 'withoutMask', 'withoutMask', 'withoutMask', 'withoutMask', 'withoutMask', 'withoutMask', 'withoutMask', 'withoutMask', 'withoutMask', 'withoutMask', 'withoutMask', 'withoutMask', 'withoutMask', 'withoutMask', 'withoutMask', 'withoutMask', 'withoutMask', 'withoutMask', 'withoutMask', 'withoutMask', 'withoutMask', 'withoutMask', 'withoutMask', 'withoutMask', 'withoutMask', 'withoutMask', 'withoutMask', 'withoutMask', 'withoutMask', 'withoutMask', 'withoutMask', 'withoutMask', 'withoutMask', 'withoutMask', 'withoutMask', 'withoutMask', 'withoutMask', 'withoutMask', 'withoutMask', 'withoutMask', 'withoutMask', 'withoutMask', 'withoutMask', 'withoutMask', 'withoutMask', 'withoutMask', 'withoutMask', 'withoutMask', 'withoutMask', 'withoutMask', 'withoutMask', 'withoutMask', 'withoutMask', 'withoutMask', 'withoutMask', 'withoutMask', 'withoutMask', 'withoutMask', 'withoutMask', 'withoutMask', 'withoutMask', 'withoutMask', 'withoutMask', 'withoutMask', 'withoutMask', 'withoutMask', 'withoutMask', 'withoutMask', 'withoutMask', 'withoutMask', 'withoutMask', 'withoutMask', 'withoutMask', 'withoutMask', 'withoutMask', 'withoutMask', 'withoutMask', 'withoutMask', 'withoutMask', 'withoutMask', 'withoutMask', 'withoutMask', 'withoutMask', 'withoutMask', 'withoutMask', 'withoutMask', 'withoutMask', 'withoutMask', 'withoutMask', 'withoutMask', 'withoutMask', 'withoutMask', 'withoutMask', 'withoutMask', 'withoutMask', 'withoutMask', 'withoutMask', 'withoutMask', 'withoutMask', 'withoutMask', 'withoutMask', 'withoutMask', 'withoutMask', 'withoutMask', 'withoutMask', 'withoutMask', 'withoutMask', 'withoutMask', 'withoutMask', 'withoutMask', 'withoutMask', 'withoutMask', 'withoutMask', 'withoutMask', 'withoutMask', 'withoutMask', 'withoutMask', 'withoutMask', 'withoutMask', 'withoutMask', 'withoutMask', 'withoutMask', 'withoutMask', 'withoutMask', 'withoutMask', 'withoutMask', 'withoutMask', 'withoutMask', 'withoutMask', 'withoutMask', 'withoutMask', 'withoutMask', 'withoutMask', 'withoutMask', 'withoutMask', 'withoutMask', 'withoutMask', 'withoutMask', 'withoutMask', 'withoutMask', 'withoutMask', 'withoutMask', 'withoutMask', 'withoutMask', 'withoutMask', 'withoutMask', 'withoutMask', 'withoutMask', 'withoutMask', 'withoutMask', 'withoutMask', 'withoutMask', 'withoutMask', 'withoutMask', 'withoutMask', 'withoutMask', 'withoutMask', 'withoutMask', 'withoutMask', 'withoutMask', 'withoutMask', 'withoutMask', 'withoutMask', 'withoutMask', 'withoutMask', 'withoutMask', 'withoutMask', 'withoutMask', 'withoutMask', 'withoutMask', 'withoutMask', 'withoutMask', 'withoutMask', 'withoutMask', 'withoutMask', 'withoutMask', 'withoutMask', 'withoutMask', 'withoutMask', 'withoutMask', 'withoutMask', 'withoutMask', 'withoutMask', 'withoutMask', 'withoutMask', 'withoutMask', 'withoutMask', 'withoutMask', 'withoutMask', 'withoutMask', 'withoutMask', 'withoutMask', 'withoutMask', 'withoutMask', 'withoutMask', 'withoutMask', 'withoutMask', 'withoutMask', 'withoutMask', 'withoutMask', 'withoutMask', 'withoutMask', 'withoutMask', 'withoutMask', 'withoutMask', 'withoutMask', 'withoutMask', 'withoutMask', 'withoutMask', 'withoutMask', 'withoutMask', 'withoutMask', 'withoutMask', 'withoutMask', 'withoutMask', 'withoutMask', 'withoutMask', 'withoutMask', 'withoutMask', 'withoutMask', 'withoutMask', 'withoutMask', 'withoutMask', 'withoutMask', 'withoutMask', 'withoutMask', 'withoutMask', 'withoutMask', 'withoutMask', 'withoutMask', 'withoutMask', 'withoutMask', 'withoutMask', 'withoutMask', 'withoutMask', 'withoutMask', 'withoutMask', 'withoutMask', 'withoutMask', 'withoutMask', 'withoutMask', 'withoutMask', 'withoutMask', 'withoutMask', 'withoutMask', 'withoutMask', 'withoutMask', 'withoutMask', 'withoutMask', 'withoutMask', 'withoutMask', 'withoutMask', 'withoutMask', 'withoutMask', 'withoutMask', 'withoutMask', 'withoutMask', 'withoutMask', 'withoutMask', 'withoutMask', 'withoutMask', 'withoutMask', 'withoutMask', 'withoutMask', 'withoutMask', 'withoutMask', 'withoutMask', 'withoutMask', 'withoutMask', 'withoutMask', 'withoutMask', 'withoutMask', 'withoutMask', 'withoutMask', 'withoutMask', 'withoutMask', 'withoutMask', 'withoutMask', 'withoutMask', 'withoutMask', 'withoutMask', 'withoutMask', 'withoutMask', 'withoutMask', 'withoutMask', 'withoutMask', 'withoutMask', 'withoutMask', 'withoutMask', 'withoutMask', 'withoutMask', 'withoutMask', 'withoutMask', 'withoutMask', 'withoutMask', 'withoutMask', 'withoutMask', 'withoutMask', 'withoutMask', 'withoutMask', 'withoutMask', 'withoutMask', 'withoutMask', 'withoutMask', 'withoutMask', 'withoutMask', 'withoutMask', 'withoutMask', 'withoutMask', 'withoutMask', 'withoutMask', 'withoutMask', 'withoutMask', 'withoutMask', 'withoutMask', 'withoutMask', 'withoutMask', 'withoutMask', 'withoutMask', 'withoutMask', 'withoutMask', 'withoutMask', 'withoutMask', 'withoutMask', 'withoutMask', 'withoutMask', 'withoutMask', 'withoutMask', 'withoutMask', 'withoutMask', 'withoutMask', 'withoutMask', 'withoutMask', 'withoutMask', 'withoutMask', 'withoutMask', 'withoutMask', 'withoutMask', 'withoutMask', 'withoutMask', 'withoutMask', 'withoutMask', 'withoutMask', 'withoutMask', 'withoutMask', 'withoutMask', 'withoutMask', 'withoutMask', 'withoutMask', 'withoutMask', 'withoutMask', 'withoutMask', 'withoutMask', 'withoutMask', 'withoutMask', 'withoutMask', 'withoutMask', 'withoutMask', 'withoutMask', 'withoutMask', 'withoutMask', 'withoutMask', 'withoutMask', 'withoutMask', 'withoutMask', 'withoutMask', 'withoutMask', 'withoutMask', 'withoutMask', 'withoutMask', 'withoutMask', 'withoutMask', 'withoutMask', 'withoutMask', 'withoutMask', 'withoutMask', 'withoutMask', 'withoutMask', 'withoutMask', 'withoutMask', 'withoutMask', 'withoutMask', 'withoutMask', 'withoutMask', 'withoutMask', 'withoutMask', 'withoutMask', 'withoutMask', 'withoutMask', 'withoutMask', 'withoutMask', 'withoutMask', 'withoutMask', 'withoutMask', 'withoutMask', 'withoutMask', 'withoutMask', 'withoutMask', 'withoutMask', 'withoutMask', 'withoutMask', 'withoutMask', 'withoutMask', 'withoutMask', 'withoutMask', 'withoutMask', 'withoutMask', 'withoutMask', 'withoutMask', 'withoutMask', 'withoutMask', 'withoutMask', 'withoutMask', 'withoutMask', 'withoutMask', 'withoutMask', 'withoutMask', 'withoutMask', 'withoutMask', 'withoutMask', 'withoutMask', 'withoutMask', 'withoutMask', 'withoutMask', 'withoutMask', 'withoutMask', 'withoutMask', 'withoutMask', 'withoutMask', 'withoutMask', 'withoutMask', 'withoutMask']\n"
          ]
        }
      ]
    },
    {
      "cell_type": "code",
      "source": [
        "print(dataImg[1])"
      ],
      "metadata": {
        "colab": {
          "base_uri": "https://localhost:8080/"
        },
        "id": "aJjPXIiBgpXW",
        "outputId": "52f4e2de-03a2-40a0-91ae-25e17f6a093a"
      },
      "execution_count": 20,
      "outputs": [
        {
          "output_type": "stream",
          "name": "stdout",
          "text": [
            "[[[-0.69411767 -0.7019608  -0.6627451 ]\n",
            "  [-0.7019608  -0.70980394 -0.67058825]\n",
            "  [-0.7254902  -0.7254902  -0.70980394]\n",
            "  ...\n",
            "  [-0.5686275  -0.56078434 -0.5294118 ]\n",
            "  [-0.5529412  -0.54509807 -0.5294118 ]\n",
            "  [-0.5372549  -0.5294118  -0.5137255 ]]\n",
            "\n",
            " [[-0.7019608  -0.69411767 -0.6627451 ]\n",
            "  [-0.7019608  -0.69411767 -0.6627451 ]\n",
            "  [-0.7176471  -0.70980394 -0.69411767]\n",
            "  ...\n",
            "  [-0.5764706  -0.5686275  -0.5372549 ]\n",
            "  [-0.9764706  -0.96862745 -0.9529412 ]\n",
            "  [ 0.99215686  1.          1.        ]]\n",
            "\n",
            " [[-0.7019608  -0.69411767 -0.6627451 ]\n",
            "  [-0.70980394 -0.7019608  -0.67058825]\n",
            "  [-0.73333335 -0.7254902  -0.70980394]\n",
            "  ...\n",
            "  [-0.5764706  -0.5686275  -0.5372549 ]\n",
            "  [ 0.99215686  1.          1.        ]\n",
            "  [ 0.96862745  0.9764706   0.99215686]]\n",
            "\n",
            " ...\n",
            "\n",
            " [[-0.9529412  -0.96862745 -0.9607843 ]\n",
            "  [-0.9607843  -0.9764706  -0.96862745]\n",
            "  [-0.9607843  -0.9764706  -0.96862745]\n",
            "  ...\n",
            "  [-0.92941177 -0.4588235  -0.372549  ]\n",
            "  [-0.92941177 -0.58431375 -0.4980392 ]\n",
            "  [-0.9607843  -0.73333335 -0.67058825]]\n",
            "\n",
            " [[-0.96862745 -0.9843137  -0.9764706 ]\n",
            "  [-0.96862745 -0.9843137  -0.9764706 ]\n",
            "  [-0.96862745 -0.9843137  -0.9764706 ]\n",
            "  ...\n",
            "  [-0.8745098  -0.372549   -0.27843136]\n",
            "  [-0.90588236 -0.4588235  -0.372549  ]\n",
            "  [-0.94509804 -0.60784316 -0.5372549 ]]\n",
            "\n",
            " [[-0.9764706  -0.99215686 -0.9843137 ]\n",
            "  [-0.96862745 -0.9843137  -0.9764706 ]\n",
            "  [-0.9764706  -0.99215686 -0.9843137 ]\n",
            "  ...\n",
            "  [-0.8039216  -0.2862745  -0.17647058]\n",
            "  [-0.85882354 -0.34117645 -0.24705881]\n",
            "  [-0.92156863 -0.47450978 -0.38823527]]]\n"
          ]
        }
      ]
    },
    {
      "cell_type": "code",
      "source": [
        "imgData = np.array(dataImg, dtype=\"float32\")"
      ],
      "metadata": {
        "id": "RsF64GfihKFk"
      },
      "execution_count": 21,
      "outputs": []
    },
    {
      "cell_type": "markdown",
      "source": [
        "# One-Hot Coding with labels"
      ],
      "metadata": {
        "id": "2DbWmtsugYM8"
      }
    },
    {
      "cell_type": "code",
      "source": [
        "lb = LabelBinarizer()\n",
        "dataClass = lb.fit_transform(dataClass)\n",
        "dataClass = to_categorical(dataClass)\n",
        "dataClass = np.array(dataClass)\n",
        "print(dataClass)\n"
      ],
      "metadata": {
        "colab": {
          "base_uri": "https://localhost:8080/"
        },
        "id": "6I24hna2cwnO",
        "outputId": "aac2515f-832b-4b93-a776-0dadb3b882a5"
      },
      "execution_count": 22,
      "outputs": [
        {
          "output_type": "stream",
          "name": "stdout",
          "text": [
            "[[1. 0.]\n",
            " [1. 0.]\n",
            " [1. 0.]\n",
            " ...\n",
            " [0. 1.]\n",
            " [0. 1.]\n",
            " [0. 1.]]\n"
          ]
        }
      ]
    },
    {
      "cell_type": "markdown",
      "source": [
        "# Split data into 75:25 ratio"
      ],
      "metadata": {
        "id": "hjZLGoWOiIJM"
      }
    },
    {
      "cell_type": "code",
      "source": [
        "(trainX, testX, trainY, testY) = train_test_split(imgData, dataClass,\n",
        "\ttest_size=0.25, random_state=1)\n"
      ],
      "metadata": {
        "id": "1rdAvNeFv-Cx"
      },
      "execution_count": 79,
      "outputs": []
    },
    {
      "cell_type": "markdown",
      "source": [
        "# Applying Data augmentation"
      ],
      "metadata": {
        "id": "v4KumzZdjP5N"
      }
    },
    {
      "cell_type": "code",
      "source": [
        "aug = ImageDataGenerator(\n",
        "\trotation_range=20,\n",
        "\tzoom_range=0.15,\n",
        "\twidth_shift_range=0.2,\n",
        "\theight_shift_range=0.2,\n",
        "\tshear_range=0.15,\n",
        "\thorizontal_flip=True,\n",
        "\tfill_mode=\"nearest\")"
      ],
      "metadata": {
        "id": "TATY2JOIwcMf"
      },
      "execution_count": 24,
      "outputs": []
    },
    {
      "cell_type": "markdown",
      "source": [
        "# CNN model"
      ],
      "metadata": {
        "id": "uB86a7Jvjnpk"
      }
    },
    {
      "cell_type": "code",
      "source": [
        "learningRate = 0.01\n",
        "epoch = 20\n",
        "batchSize = 32"
      ],
      "metadata": {
        "id": "wHxKtqkhWWwK"
      },
      "execution_count": 33,
      "outputs": []
    },
    {
      "cell_type": "code",
      "source": [
        "MobileNetModel = MobileNetV2(weights=\"imagenet\", include_top=False,\n",
        "\tinput_tensor=Input(shape=(224, 224, 3)))"
      ],
      "metadata": {
        "colab": {
          "base_uri": "https://localhost:8080/"
        },
        "id": "ELBWJq2cjlZE",
        "outputId": "6fe3cca1-16b7-444d-ffb1-f5083c5d799c"
      },
      "execution_count": 29,
      "outputs": [
        {
          "output_type": "stream",
          "name": "stdout",
          "text": [
            "WARNING:tensorflow:`input_shape` is undefined or non-square, or `rows` is not in [96, 128, 160, 192, 224]. Weights for input shape (224, 224) will be loaded as the default.\n"
          ]
        }
      ]
    },
    {
      "cell_type": "code",
      "source": [
        "CNNmodel = MobileNetModel.output\n",
        "CNNmodel = AveragePooling2D(pool_size=(7, 7))(CNNmodel)\n",
        "CNNmodel = Flatten(name=\"flatten\")(CNNmodel)\n",
        "CNNmodel = Dense(128, activation=\"relu\")(CNNmodel)\n",
        "CNNmodel = Dropout(0.5)(CNNmodel)\n",
        "CNNmodel = Dense(2, activation=\"softmax\")(CNNmodel)"
      ],
      "metadata": {
        "id": "0Fq4MvhpwdSf"
      },
      "execution_count": 30,
      "outputs": []
    },
    {
      "cell_type": "code",
      "source": [
        "model = Model(inputs=MobileNetModel.input, outputs=CNNmodel)"
      ],
      "metadata": {
        "id": "y52IRq1iwnSQ"
      },
      "execution_count": 31,
      "outputs": []
    },
    {
      "cell_type": "markdown",
      "source": [
        "# Training the Model"
      ],
      "metadata": {
        "id": "0bE8Yjf1mKUk"
      }
    },
    {
      "cell_type": "code",
      "source": [
        "opt = Adam(lr=learningRate, decay=learningRate / epoch)\n",
        "model.compile(loss=\"binary_crossentropy\", optimizer=opt,\n",
        "\tmetrics=[\"accuracy\"])\n",
        "\n"
      ],
      "metadata": {
        "colab": {
          "base_uri": "https://localhost:8080/"
        },
        "id": "FpL6a0tzw5Rn",
        "outputId": "a47e1341-3583-4939-fc5a-7315879fb284"
      },
      "execution_count": 34,
      "outputs": [
        {
          "output_type": "stream",
          "name": "stderr",
          "text": [
            "/usr/local/lib/python3.7/dist-packages/keras/optimizer_v2/adam.py:105: UserWarning: The `lr` argument is deprecated, use `learning_rate` instead.\n",
            "  super(Adam, self).__init__(name, **kwargs)\n"
          ]
        }
      ]
    },
    {
      "cell_type": "code",
      "source": [
        "H = model.fit(\n",
        "\taug.flow(trainX, trainY, batch_size=batchSize),\n",
        "\tsteps_per_epoch=len(trainX) // batchSize,\n",
        "\tvalidation_data=(testX, testY),\n",
        "\tvalidation_steps=len(testX) // batchSize,\n",
        "\tepochs=epoch)\n",
        "\n"
      ],
      "metadata": {
        "colab": {
          "base_uri": "https://localhost:8080/"
        },
        "id": "8Q3EDZx5w9OX",
        "outputId": "bf9057ac-05c6-49f5-c700-78a07220d2ea"
      },
      "execution_count": 36,
      "outputs": [
        {
          "output_type": "stream",
          "name": "stdout",
          "text": [
            "Epoch 1/20\n",
            "89/89 [==============================] - 596s 7s/step - loss: 0.1332 - accuracy: 0.9598 - val_loss: 2.5317 - val_accuracy: 0.6347\n",
            "Epoch 2/20\n",
            "89/89 [==============================] - 596s 7s/step - loss: 0.0886 - accuracy: 0.9701 - val_loss: 5.3942 - val_accuracy: 0.5908\n",
            "Epoch 3/20\n",
            "89/89 [==============================] - 602s 7s/step - loss: 0.0937 - accuracy: 0.9676 - val_loss: 3.7027 - val_accuracy: 0.7954\n",
            "Epoch 4/20\n",
            "89/89 [==============================] - 595s 7s/step - loss: 0.0914 - accuracy: 0.9701 - val_loss: 4.2508 - val_accuracy: 0.7954\n",
            "Epoch 5/20\n",
            "89/89 [==============================] - 597s 7s/step - loss: 0.0689 - accuracy: 0.9757 - val_loss: 14.4136 - val_accuracy: 0.6284\n",
            "Epoch 6/20\n",
            "89/89 [==============================] - 593s 7s/step - loss: 0.0738 - accuracy: 0.9768 - val_loss: 5.4904 - val_accuracy: 0.7213\n",
            "Epoch 7/20\n",
            "89/89 [==============================] - 602s 7s/step - loss: 0.0745 - accuracy: 0.9736 - val_loss: 9.0783 - val_accuracy: 0.7307\n",
            "Epoch 8/20\n",
            "89/89 [==============================] - 592s 7s/step - loss: 0.0704 - accuracy: 0.9771 - val_loss: 9.0859 - val_accuracy: 0.6378\n",
            "Epoch 9/20\n",
            "89/89 [==============================] - 599s 7s/step - loss: 0.0509 - accuracy: 0.9856 - val_loss: 4.2484 - val_accuracy: 0.7923\n",
            "Epoch 10/20\n",
            "89/89 [==============================] - 589s 7s/step - loss: 0.0750 - accuracy: 0.9753 - val_loss: 1.9978 - val_accuracy: 0.8246\n",
            "Epoch 11/20\n",
            "89/89 [==============================] - 592s 7s/step - loss: 0.1155 - accuracy: 0.9627 - val_loss: 4.8244 - val_accuracy: 0.7850\n",
            "Epoch 12/20\n",
            "89/89 [==============================] - 595s 7s/step - loss: 0.0771 - accuracy: 0.9739 - val_loss: 12.4062 - val_accuracy: 0.5939\n",
            "Epoch 13/20\n",
            "89/89 [==============================] - 586s 7s/step - loss: 0.0539 - accuracy: 0.9806 - val_loss: 1.5289 - val_accuracy: 0.9280\n",
            "Epoch 14/20\n",
            "89/89 [==============================] - 586s 7s/step - loss: 0.0436 - accuracy: 0.9827 - val_loss: 2.9115 - val_accuracy: 0.8747\n",
            "Epoch 15/20\n",
            "89/89 [==============================] - 586s 7s/step - loss: 0.0490 - accuracy: 0.9863 - val_loss: 5.4073 - val_accuracy: 0.8038\n",
            "Epoch 16/20\n",
            "89/89 [==============================] - 582s 7s/step - loss: 0.0395 - accuracy: 0.9859 - val_loss: 2.3581 - val_accuracy: 0.9092\n",
            "Epoch 17/20\n",
            "89/89 [==============================] - 594s 7s/step - loss: 0.0485 - accuracy: 0.9852 - val_loss: 0.9455 - val_accuracy: 0.8633\n",
            "Epoch 18/20\n",
            "89/89 [==============================] - 620s 7s/step - loss: 0.0614 - accuracy: 0.9789 - val_loss: 2.7982 - val_accuracy: 0.8299\n",
            "Epoch 19/20\n",
            "89/89 [==============================] - 613s 7s/step - loss: 0.0515 - accuracy: 0.9856 - val_loss: 1.4622 - val_accuracy: 0.9415\n",
            "Epoch 20/20\n",
            "89/89 [==============================] - 596s 7s/step - loss: 0.0370 - accuracy: 0.9887 - val_loss: 2.6823 - val_accuracy: 0.8904\n"
          ]
        }
      ]
    },
    {
      "cell_type": "markdown",
      "source": [
        "# Predicting"
      ],
      "metadata": {
        "id": "MeWNKfICmPqk"
      }
    },
    {
      "cell_type": "code",
      "source": [
        "y_pred=model.predict(testX)\n"
      ],
      "metadata": {
        "id": "5qJZ9d3nitFI"
      },
      "execution_count": 63,
      "outputs": []
    },
    {
      "cell_type": "code",
      "source": [
        "y_pred = np.argmax(y_pred, axis=1)"
      ],
      "metadata": {
        "id": "4YSfm4p2kMX-"
      },
      "execution_count": 64,
      "outputs": []
    },
    {
      "cell_type": "code",
      "source": [
        "testY=testY.argmax(axis=1)"
      ],
      "metadata": {
        "id": "WScvvcdOlN-G"
      },
      "execution_count": 80,
      "outputs": []
    },
    {
      "cell_type": "code",
      "source": [
        "print(testY)"
      ],
      "metadata": {
        "colab": {
          "base_uri": "https://localhost:8080/"
        },
        "id": "fA7sJaM2la0W",
        "outputId": "8c1cf259-539e-479a-fb7e-8b8ef2fe87f9"
      },
      "execution_count": 81,
      "outputs": [
        {
          "output_type": "stream",
          "name": "stdout",
          "text": [
            "[0 0 0 1 1 1 1 0 1 1 1 0 1 1 0 1 0 1 0 1 0 0 0 0 0 1 1 1 0 0 1 0 1 0 0 0 1\n",
            " 1 0 0 1 1 0 0 1 1 1 0 1 1 1 0 0 1 0 1 0 1 0 0 0 0 0 1 0 0 0 0 1 1 1 0 0 1\n",
            " 1 1 0 0 0 0 1 0 1 1 1 0 1 0 1 0 0 1 1 0 1 1 0 0 0 0 0 1 1 1 0 0 1 0 0 0 0\n",
            " 0 1 0 1 1 0 1 0 1 0 1 1 1 0 0 1 1 0 0 0 0 1 0 0 0 0 1 0 0 1 0 1 1 0 0 1 1\n",
            " 0 1 0 1 0 1 1 1 0 1 0 1 0 0 1 1 1 1 0 1 0 1 1 1 1 0 0 0 0 0 0 1 0 0 0 0 0\n",
            " 0 1 0 0 0 1 0 1 0 0 0 1 1 1 1 0 0 1 1 0 0 1 0 0 0 1 0 0 1 1 0 1 1 0 0 0 0\n",
            " 1 1 1 0 1 0 0 0 0 1 0 0 0 1 0 0 0 1 0 1 0 0 1 1 1 1 0 1 0 0 1 1 1 1 1 0 0\n",
            " 0 1 0 1 1 0 1 1 0 1 1 1 1 1 0 1 0 0 0 1 1 1 0 1 1 1 1 0 0 0 0 1 0 1 0 0 0\n",
            " 0 1 1 0 0 0 0 1 0 0 1 0 1 0 0 1 0 0 0 0 1 0 1 0 0 1 1 1 0 0 0 1 1 0 1 1 1\n",
            " 1 0 1 0 0 0 0 0 1 1 1 0 0 0 0 1 1 0 0 1 0 1 0 1 1 0 0 1 0 1 0 1 1 1 1 0 1\n",
            " 1 0 0 0 1 1 0 0 1 1 1 1 0 1 0 1 0 0 0 0 1 1 0 0 1 0 0 0 1 1 1 0 1 0 0 0 0\n",
            " 0 0 0 1 1 1 0 1 0 0 0 1 0 0 0 1 1 1 0 1 0 0 1 1 1 1 0 0 1 0 1 0 1 1 0 0 1\n",
            " 0 0 1 0 1 0 1 1 0 0 0 0 1 0 0 1 0 0 1 1 0 1 0 0 1 1 0 0 1 1 0 0 1 0 0 0 1\n",
            " 1 1 0 1 0 0 0 0 1 1 1 0 1 0 0 0 0 1 0 0 0 0 1 0 0 1 0 0 1 0 1 0 1 1 1 1 0\n",
            " 1 0 1 0 1 1 0 1 0 0 1 0 1 1 0 0 1 0 1 1 0 0 0 0 0 0 0 1 0 0 0 1 1 1 1 1 0\n",
            " 1 0 1 1 0 0 0 1 1 1 0 0 0 1 1 0 0 1 0 1 0 1 1 0 1 1 1 0 0 0 0 0 0 1 0 1 0\n",
            " 0 0 1 0 0 0 1 1 0 1 1 0 1 0 1 1 0 0 0 1 0 1 0 1 0 1 1 1 1 0 1 1 1 1 0 1 1\n",
            " 0 0 1 0 1 1 1 1 1 1 1 1 0 1 1 1 0 1 1 0 1 0 0 1 0 1 1 1 1 0 1 1 1 0 0 0 0\n",
            " 0 0 0 0 1 0 0 0 0 0 0 0 1 1 0 1 1 1 1 1 1 0 1 0 0 0 1 1 1 0 1 1 1 1 1 1 1\n",
            " 1 0 1 0 1 1 1 1 1 1 0 0 1 0 0 1 0 1 0 1 1 0 0 1 1 1 1 1 1 1 1 0 1 1 0 1 1\n",
            " 0 1 1 0 0 0 1 0 1 0 1 0 1 0 1 1 0 0 1 0 0 1 0 1 0 0 0 0 1 1 0 1 0 1 0 0 0\n",
            " 1 1 0 1 0 1 0 1 1 0 1 0 1 1 0 0 1 0 0 0 1 1 1 1 0 0 0 1 0 1 1 0 0 1 1 1 1\n",
            " 1 1 1 0 0 0 0 0 0 1 0 0 1 1 0 1 0 0 0 0 1 1 0 1 0 0 0 0 0 1 0 1 1 1 1 0 1\n",
            " 1 1 1 0 1 1 1 0 1 1 0 0 0 0 0 1 0 1 1 1 1 1 1 0 0 1 1 0 1 1 0 1 0 0 0 0 0\n",
            " 1 0 0 0 1 0 0 1 0 0 0 1 0 0 1 0 0 0 0 1 1 1 1 1 0 1 1 0 0 1 1 0 0 0 1 1 1\n",
            " 1 0 0 1 0 0 1 1 1 1 1 1 0 0 0 1 1 1 0 1 1 1 1 1 0 0 0 0 1 1 1 0 1]\n"
          ]
        }
      ]
    },
    {
      "cell_type": "code",
      "source": [
        "print(y_pred)\n"
      ],
      "metadata": {
        "colab": {
          "base_uri": "https://localhost:8080/"
        },
        "id": "VLZ1Wj0Tjiou",
        "outputId": "913a33a3-e994-4813-987b-f206bd6a5051"
      },
      "execution_count": 77,
      "outputs": [
        {
          "output_type": "stream",
          "name": "stdout",
          "text": [
            "[0 0 0 1 1 1 0 0 1 1 1 0 1 1 0 1 1 1 0 1 0 0 0 1 0 1 1 1 0 0 1 0 1 0 1 1 1\n",
            " 1 1 0 1 1 0 1 1 1 1 1 0 1 1 0 0 1 0 1 1 1 0 1 0 0 0 1 0 0 0 1 1 1 1 0 0 1\n",
            " 1 1 0 0 1 0 1 0 1 1 1 0 1 0 1 0 0 0 1 0 1 1 0 0 0 0 0 1 1 1 0 0 1 0 0 0 0\n",
            " 1 1 0 1 1 0 1 0 1 0 1 1 1 0 0 1 1 0 0 0 0 1 0 1 0 0 1 0 0 1 1 1 1 1 0 1 1\n",
            " 0 1 0 1 0 1 1 1 1 1 0 1 1 0 1 1 1 1 1 1 0 1 1 1 1 0 0 1 0 1 1 1 0 0 0 0 1\n",
            " 0 1 0 0 0 1 1 1 0 0 0 1 1 1 1 0 0 1 1 0 0 1 1 0 0 1 0 0 1 1 0 1 1 0 0 0 0\n",
            " 1 1 1 0 0 0 0 0 0 1 0 1 0 1 0 0 0 1 0 1 0 1 1 1 1 1 1 1 0 0 1 1 1 1 0 0 1\n",
            " 1 1 0 1 1 0 1 1 0 1 1 1 1 1 0 1 0 0 0 1 1 1 1 1 1 1 1 0 1 0 0 1 0 1 1 0 1\n",
            " 0 1 1 1 0 0 0 1 0 0 1 0 1 1 1 1 0 0 0 0 1 0 1 1 1 1 1 1 0 0 0 1 1 0 1 1 1\n",
            " 1 0 1 1 1 0 0 1 1 1 1 1 0 0 0 1 1 1 1 1 0 1 0 1 1 0 0 1 0 1 0 1 1 1 1 0 1\n",
            " 1 0 0 0 1 1 0 1 1 1 1 1 0 1 0 1 0 0 0 0 1 1 0 0 1 1 0 1 1 1 1 0 1 0 0 0 0\n",
            " 1 0 0 1 1 1 0 1 0 0 1 1 1 0 0 1 1 1 0 1 0 0 1 1 1 1 1 0 1 0 1 0 1 1 1 0 1\n",
            " 0 0 1 0 1 0 1 0 0 0 0 0 1 0 0 1 1 0 1 1 0 1 0 0 1 1 0 0 1 0 0 0 1 0 0 0 1\n",
            " 1 1 0 1 0 0 0 1 1 1 1 0 1 1 0 0 0 1 0 0 0 0 1 0 1 1 1 0 1 0 1 0 1 1 1 1 0\n",
            " 1 0 1 1 1 1 0 1 0 0 1 0 0 1 0 0 1 0 1 0 0 1 0 0 0 0 0 1 0 0 0 1 1 1 1 1 1\n",
            " 1 0 1 1 0 1 1 1 1 1 0 0 1 1 1 0 0 1 0 1 1 1 1 0 1 1 1 1 0 0 0 1 0 1 0 1 0\n",
            " 0 0 1 0 0 0 1 1 0 1 1 0 1 0 1 1 0 0 0 0 0 1 0 1 1 1 1 1 1 1 1 1 1 1 1 1 1\n",
            " 0 0 1 0 1 1 0 1 0 1 1 1 0 1 1 1 0 1 1 0 1 0 0 1 0 1 1 1 1 0 1 1 1 0 1 0 0\n",
            " 0 0 0 0 1 0 0 0 0 0 0 0 1 1 0 1 1 1 1 1 1 0 1 0 0 0 1 1 1 0 1 1 1 1 1 1 1\n",
            " 1 0 1 0 1 1 1 1 1 1 0 1 1 0 0 1 0 1 0 1 1 0 0 1 1 1 1 1 1 1 1 0 1 1 0 1 1\n",
            " 0 1 1 0 0 0 1 0 1 0 1 0 1 0 1 1 0 0 1 0 0 1 0 1 0 0 0 0 1 1 0 1 0 1 0 0 0\n",
            " 1 1 0 1 0 1 0 1 1 0 1 0 1 1 0 0 1 0 0 1 1 1 1 1 0 0 0 1 1 1 1 1 0 1 1 1 1\n",
            " 1 1 1 1 1 0 0 0 0 1 0 0 1 1 0 1 1 0 0 0 1 1 0 1 1 0 0 0 0 1 0 1 1 1 1 0 1\n",
            " 1 1 1 0 1 1 1 0 1 1 1 1 1 0 0 1 1 1 1 1 1 1 1 0 0 1 1 0 1 1 0 1 0 0 0 0 0\n",
            " 1 1 1 0 1 0 0 1 1 0 1 1 0 0 1 0 0 0 0 1 1 1 1 1 1 1 1 0 0 1 1 0 0 0 1 1 1\n",
            " 1 1 1 1 0 0 0 1 1 1 1 1 0 0 0 1 1 1 1 1 1 1 1 1 0 1 1 0 1 1 1 0 1]\n"
          ]
        }
      ]
    },
    {
      "cell_type": "markdown",
      "source": [
        "# Performance measurement"
      ],
      "metadata": {
        "id": "tCi38MUT4KY6"
      }
    },
    {
      "cell_type": "code",
      "source": [
        "from sklearn.metrics import accuracy_score\n",
        "accuracy=accuracy_score(testY,y_pred)\n",
        "print('Accuracy %.3f'%accuracy)\n",
        "\n",
        "from sklearn.metrics import precision_score\n",
        "precision=precision_score(testY,y_pred,average=\"binary\")\n",
        "print('precision %.3f'%precision)\n",
        "\n",
        "from sklearn.metrics import recall_score\n",
        "recall=recall_score(testY,y_pred,average=\"binary\")\n",
        "print('Recall %.3f'%recall)\n",
        "\n",
        "from sklearn.metrics import f1_score\n",
        "f1=f1_score(testY,y_pred,average=\"binary\")\n",
        "print('f1_score %.3f'%f1)"
      ],
      "metadata": {
        "colab": {
          "base_uri": "https://localhost:8080/"
        },
        "id": "5IbRprEBkBqx",
        "outputId": "eb9fe065-a19e-4eb8-c4da-c296a15bcc67"
      },
      "execution_count": 85,
      "outputs": [
        {
          "output_type": "stream",
          "name": "stdout",
          "text": [
            "Accuracy 0.890\n",
            "precision 0.832\n",
            "Recall 0.972\n",
            "f1_score 0.897\n"
          ]
        }
      ]
    },
    {
      "cell_type": "markdown",
      "source": [
        "# Result Graph"
      ],
      "metadata": {
        "id": "UUQ_FKfrmuw9"
      }
    },
    {
      "cell_type": "code",
      "source": [
        "# Training Loss\n",
        "plt.plot(np.arange(0, epoch), H.history[\"loss\"], label=\"train_loss\")\n",
        "plt.xlabel(\"Epoch\")\n",
        "plt.ylabel('Loss')\n",
        "plt.show()"
      ],
      "metadata": {
        "colab": {
          "base_uri": "https://localhost:8080/",
          "height": 282
        },
        "id": "uEPPMBO0mznd",
        "outputId": "557b3b60-68fe-452d-a3f1-8bf3cee35800"
      },
      "execution_count": 101,
      "outputs": [
        {
          "output_type": "display_data",
          "data": {
            "text/plain": [
              "<Figure size 432x288 with 1 Axes>"
            ],
            "image/png": "[encoded data removed]"
          },
          "metadata": {}
        }
      ]
    },
    {
      "cell_type": "code",
      "source": [
        "#Training Accuracy\n",
        "plt.plot(np.arange(0, epoch), H.history[\"accuracy\"])\n",
        "plt.xlabel(\"Epoch\")\n",
        "plt.ylabel('Loss')\n",
        "plt.show()"
      ],
      "metadata": {
        "colab": {
          "base_uri": "https://localhost:8080/",
          "height": 285
        },
        "id": "ZTyCtMBrnlfH",
        "outputId": "4c53ae30-cf33-45d2-c8ed-dea85eb4d20d"
      },
      "execution_count": 102,
      "outputs": [
        {
          "output_type": "display_data",
          "data": {
            "text/plain": [
              "<Figure size 432x288 with 1 Axes>"
            ],
            "image/png": "[encoded data removed]"
          },
          "metadata": {}
        }
      ]
    }
  ]
}